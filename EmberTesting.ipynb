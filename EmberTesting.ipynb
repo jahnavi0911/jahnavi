{
  "cells": [
    {
      "cell_type": "markdown",
      "metadata": {
        "id": "8SyWKLJX3GaJ"
      },
      "source": [
        "In this exercise, we build on the previous exercises to prepare a labeled dataset of binary feature vectors, and use it to train a *Random Forest* binary classifier of malware/benign feature vectors."
      ]
    },
    {
      "cell_type": "code",
      "execution_count": 3,
      "metadata": {
        "id": "bwr6Dk7W3GaL"
      },
      "outputs": [],
      "source": [
        "import os\n",
        "directoriesWithLabels = [(\"RandomSamples/Benign\",0), (\"RandomSamples/Malware\",1)]\n",
        "listOfSamples = []\n",
        "labels = []\n",
        "for datasetPath, label in directoriesWithLabels:\n",
        "    samples = [f for f in os.listdir(datasetPath)]\n",
        "    for file in samples:\n",
        "        filePath = os.path.join(datasetPath, file)\n",
        "        listOfSamples.append(filePath)\n",
        "        labels.append(label)"
      ]
    },
    {
      "cell_type": "code",
      "execution_count": 1,
      "metadata": {
        "colab": {
          "base_uri": "https://localhost:8080/"
        },
        "id": "89ObBU6c3lvb",
        "outputId": "f4e15e7d-7dc3-43ba-e7f6-2194cb2663fa"
      },
      "outputs": [
        {
          "name": "stdout",
          "output_type": "stream",
          "text": [
            "Cloning into 'DikeDataset'...\n",
            "remote: Enumerating objects: 11989, done.\u001b[K\n",
            "remote: Counting objects: 100% (11989/11989), done.\u001b[K\n",
            "remote: Compressing objects: 100% (9243/9243), done.\u001b[K\n",
            "remote: Total 11989 (delta 2749), reused 11981 (delta 2741), pack-reused 0\u001b[K\n",
            "Receiving objects: 100% (11989/11989), 2.38 GiB | 34.60 MiB/s, done.\n",
            "Resolving deltas: 100% (2749/2749), done.\n",
            "Updating files: 100% (11936/11936), done.\n"
          ]
        }
      ],
      "source": [
        "!git clone https://github.com/iosifache/DikeDataset.git\n",
        "import shutil\n",
        "import os\n",
        "\n",
        "# Define source directory and destination directory for benign files\n",
        "source_benign_directory = '/content/DikeDataset/files/benign'\n",
        "destination_benign_directory = '/content/RandomSamples/Benign'\n",
        "\n",
        "# Create destination directory for benign files if it doesn't exist\n",
        "# if not os.path.exists(destination_benign_directory):\n",
        "#     os.makedirs(destination_benign_directory)\n",
        "\n",
        "# Get the list of files in the source directory for benign files\n",
        "benign_files = os.listdir(source_benign_directory)\n",
        "\n",
        "# Iterate through the first 100 files in the benign files list and copy them to the destination directory\n",
        "for filename in benign_files[:100]:\n",
        "    source_file = os.path.join(source_benign_directory, filename)\n",
        "    destination_file = os.path.join(destination_benign_directory, filename)\n",
        "    shutil.copyfile(source_file, destination_file)\n",
        "\n",
        "# Define source directory and destination directory for malware files\n",
        "source_malware_directory = '/content/DikeDataset/files/malware'\n",
        "destination_malware_directory = '/content/RandomSamples/Malware'\n",
        "\n",
        "# Create destination directory for malware files if it doesn't exist\n",
        "# if not os.path.exists(destination_malware_directory):\n",
        "#     os.makedirs(destination_malware_directory)\n",
        "\n",
        "# Get the list of files in the source directory for malware files\n",
        "malware_files = os.listdir(source_malware_directory)\n",
        "\n",
        "# Iterate through the first 100 files in the malware files list and copy them to the destination directory\n",
        "for filename in malware_files[:100]:\n",
        "    source_file = os.path.join(source_malware_directory, filename)\n",
        "    destination_file = os.path.join(destination_malware_directory, filename)\n",
        "    shutil.copyfile(source_file, destination_file)\n"
      ]
    },
    {
      "cell_type": "code",
      "execution_count": 7,
      "metadata": {
        "colab": {
          "base_uri": "https://localhost:8080/"
        },
        "id": "zLBN1oTr7GXS",
        "outputId": "17bb95cc-3328-46bb-e272-787e38e4d7a8"
      },
      "outputs": [
        {
          "name": "stdout",
          "output_type": "stream",
          "text": [
            "Requirement already satisfied: nltk in /usr/local/lib/python3.10/dist-packages (3.8.1)\n",
            "Collecting pefile\n",
            "  Downloading pefile-2023.2.7-py3-none-any.whl (71 kB)\n",
            "\u001b[2K     \u001b[90m━━━━━━━━━━━━━━━━━━━━━━━━━━━━━━━━━━━━━━━━\u001b[0m \u001b[32m71.8/71.8 kB\u001b[0m \u001b[31m738.8 kB/s\u001b[0m eta \u001b[36m0:00:00\u001b[0m\n",
            "\u001b[?25hRequirement already satisfied: click in /usr/local/lib/python3.10/dist-packages (from nltk) (8.1.7)\n",
            "Requirement already satisfied: joblib in /usr/local/lib/python3.10/dist-packages (from nltk) (1.3.2)\n",
            "Requirement already satisfied: regex>=2021.8.3 in /usr/local/lib/python3.10/dist-packages (from nltk) (2023.12.25)\n",
            "Requirement already satisfied: tqdm in /usr/local/lib/python3.10/dist-packages (from nltk) (4.66.2)\n",
            "Installing collected packages: pefile\n",
            "Successfully installed pefile-2023.2.7\n"
          ]
        }
      ],
      "source": [
        "!pip install nltk pefile"
      ]
    },
    {
      "cell_type": "code",
      "execution_count": 8,
      "metadata": {
        "id": "9DogDwy43GaO"
      },
      "outputs": [],
      "source": [
        "import collections\n",
        "from nltk import ngrams\n",
        "import numpy as np\n",
        "import pefile\n",
        "\n",
        "def readFile(filePath):\n",
        "    with open(filePath, \"rb\") as binary_file:\n",
        "        data = binary_file.read()\n",
        "    return data\n",
        "\n",
        "def byteSequenceToNgrams(byteSequence, n):\n",
        "    Ngrams = ngrams(byteSequence, n)\n",
        "    return list(Ngrams)\n",
        "\n",
        "def extractNgramCounts(file, N):\n",
        "    fileByteSequence = readFile(file)\n",
        "    fileNgrams = byteSequenceToNgrams(fileByteSequence, N)\n",
        "    return collections.Counter(fileNgrams)\n",
        "\n",
        "def getNGramFeaturesFromSample(file, K1_most_common_Ngrams_list):\n",
        "    K1 = len(K1_most_common_Ngrams_list)\n",
        "    fv = K1*[0]\n",
        "    fileNgrams = extractNgramCounts(file, N)\n",
        "    for i in range(K1):\n",
        "        fv[i]=fileNgrams[K1_most_common_Ngrams_list[i]]\n",
        "    return fv\n",
        "\n",
        "def preprocessImports(listOfDLLs):\n",
        "    processedListOfDLLs = []\n",
        "    temp = [x.decode().split(\".\")[0].lower() for x in listOfDLLs]\n",
        "    return \" \".join(temp)\n",
        "\n",
        "def getImports(pe):\n",
        "    listOfImports = []\n",
        "    for entry in pe.DIRECTORY_ENTRY_IMPORT:\n",
        "        listOfImports.append(entry.dll)\n",
        "    return preprocessImports(listOfImports)\n",
        "\n",
        "def getSectionNames(pe):\n",
        "    listOfSectionNames = []\n",
        "    for eachSection in pe.sections:\n",
        "        refined_name = eachSection.Name.decode().replace('\\x00','').lower()\n",
        "        listOfSectionNames.append(refined_name)\n",
        "    return \" \".join(listOfSectionNames)"
      ]
    },
    {
      "cell_type": "code",
      "execution_count": 9,
      "metadata": {
        "id": "Rwu_v6uk3GaO"
      },
      "outputs": [],
      "source": [
        "# Generate 2-Grams,\n",
        "# and produce feature vectors based on the frequency method\n",
        "# This may take a few minutes to run\n",
        "N=2\n",
        "totalNgramCount = collections.Counter([])\n",
        "for file in samples_train:\n",
        "    totalNgramCount += extractNgramCounts(file, N)\n",
        "K1 = 100\n",
        "K1_most_common_Ngrams = totalNgramCount.most_common(K1)\n",
        "K1_most_common_Ngrams_list = [x[0] for x in K1_most_common_Ngrams]"
      ]
    },
    {
      "cell_type": "code",
      "execution_count": 10,
      "metadata": {
        "colab": {
          "base_uri": "https://localhost:8080/"
        },
        "id": "OdZU6Wm13GaP",
        "outputId": "c57dd701-fa8f-4551-c9a3-30ef964d6baf"
      },
      "outputs": [
        {
          "name": "stdout",
          "output_type": "stream",
          "text": [
            "RandomSamples/Benign/daf40d9a2ec0f85748aa446e41c11cf7188fdfa0f00d84652a38699c5e04863a.exe:\n",
            "'PE' object has no attribute 'DIRECTORY_ENTRY_IMPORT'\n",
            "RandomSamples/Benign/a6266f82f8549582c1ede57f127c9f65e2f7271c42b7ed51f0fef0f0eb2bb90e.ole:\n",
            "'DOS Header magic not found.'\n",
            "RandomSamples/Benign/1e83c1a2f6f2b7080c7fefccff1fde4bb14aa8a57e851817c92a6f1c946ca17a.exe:\n",
            "'PE' object has no attribute 'DIRECTORY_ENTRY_IMPORT'\n",
            "RandomSamples/Benign/6a5a9543efdcbfea2f59591f16302e200dbcc4966c7642aabc9be79910d7855a.ole:\n",
            "'DOS Header magic not found.'\n",
            "RandomSamples/Malware/6489603b61e93998d4f76eb05db075cdd7001a17873ca26b83869880a12aa4fd.ole:\n",
            "'DOS Header magic not found.'\n",
            "RandomSamples/Malware/eca134d5ba493b631f1961738e4af190b9ffcb430fde25940e77c2ce91dc6815.ole:\n",
            "'DOS Header magic not found.'\n",
            "RandomSamples/Malware/919338befb7b39e71d750fdf3328dbaf4194b881a93e016583026c733e5176a5.ole:\n",
            "'DOS Header magic not found.'\n",
            "RandomSamples/Benign/76fe3c60788550dde172e3722a624f1407890e3cc39895f9dc233d0e0cc5e566.ole:\n",
            "'DOS Header magic not found.'\n",
            "RandomSamples/Malware/fc4e851464b275cb4206af8ce176350c7e12b7b1334a795cf27e48bb6cd9df06.ole:\n",
            "'DOS Header magic not found.'\n",
            "RandomSamples/Benign/13adc27c933219863b7914e1ae01592bf838211f74f893962745a7e902fe0a00.ole:\n",
            "'DOS Header magic not found.'\n",
            "RandomSamples/Malware/2282676dff6e201e68e1817f507dbb2f5ecbeb498367e7aada3916d32e89511d.ole:\n",
            "'DOS Header magic not found.'\n",
            "RandomSamples/Benign/1302667485bd8b4dfcb5cc273cd05da1ca61927b5e923a5acbc2aaa1829ecfa1.exe:\n",
            "'Invalid NT Headers signature. Probably a NE file'\n",
            "RandomSamples/Malware/859a52cd1b0aa5c84836f1d4b6e63be3df7155d97fcb2f40fce4a55d4bebb495.ole:\n",
            "'DOS Header magic not found.'\n",
            "RandomSamples/Malware/fd84cc018f4e2b42100c201baf95e05f7b05917104992563c25d0bee49869c89.ole:\n",
            "'DOS Header magic not found.'\n",
            "RandomSamples/Malware/6aa0628194addc5361ab720044fb4d55b01417b2b70fb68f38a4b46757f7b36d.ole:\n",
            "'DOS Header magic not found.'\n",
            "RandomSamples/Benign/03aed529543ac4ce2d9bb6b325f59686a06f1e9df112cf719a8e5222fffda801.exe:\n",
            "'Invalid e_lfanew value, probably not a PE file'\n",
            "RandomSamples/Malware/93e33f4a4ac3936e9fef46f4867ccc11583c4f11fdf14426536324d01f280d42.ole:\n",
            "'DOS Header magic not found.'\n",
            "RandomSamples/Benign/7039d7172ce2ee9698336942eb482bd39d08aacea1ad90e944b62be909bba929.ole:\n",
            "'DOS Header magic not found.'\n",
            "RandomSamples/Malware/20397e39e9f97462e5b9dc1f2132c1f9448b80a57fe3f87e27c2a852585d618b.ole:\n",
            "'DOS Header magic not found.'\n",
            "RandomSamples/Benign/f74e793f09094510fb7b95d211db7c28767f5e889736a17c79f66a1626aae126.ole:\n",
            "'DOS Header magic not found.'\n",
            "RandomSamples/Malware/7697faf6a3ac06e7f465152759a63f92d67946fef445bd4c26c487b579ff857d.ole:\n",
            "'DOS Header magic not found.'\n",
            "RandomSamples/Malware/42f931a37a44c73263e47b0f33039ccb6710707b64b2f18e3cb3cd223fd06df5.ole:\n",
            "'DOS Header magic not found.'\n",
            "RandomSamples/Malware/f478fbc67c123cb052f3d62ae3d94292aead2d3ec71707d443d91f08f9897212.ole:\n",
            "'DOS Header magic not found.'\n",
            "RandomSamples/Malware/6304d9157e443c349a212dcf8c2ee4bf23645a1f690a499ac31bed22e2995f6b.ole:\n",
            "'DOS Header magic not found.'\n",
            "RandomSamples/Malware/2e174d4f07dcfac47d20694bdeb19d62a60dfa485cce9b620951dba1efee99a7.ole:\n",
            "'DOS Header magic not found.'\n"
          ]
        }
      ],
      "source": [
        "# Extract N-gram features based on the frequency method\n",
        "# Also, extracts some metadata such as DLL imports,\n",
        "# and PE Sections. We will combine these with\n",
        "# our N-gram features to enrich the sample representation.\n",
        "# This will take a few minutes to run.\n",
        "# Some samples will generate errors such as 'not a PE file',\n",
        "# 'DOS header not found', and 'invalid attribute'. These are OK.\n",
        "importsCorpus_train = []\n",
        "numSections_train = []\n",
        "sectionNames_train = []\n",
        "NgramFeaturesList_train = []\n",
        "y_train = []\n",
        "for i in range(len(samples_train)):\n",
        "    file = samples_train[i]\n",
        "    try:\n",
        "        NGramFeatures = getNGramFeaturesFromSample(file, K1_most_common_Ngrams_list)\n",
        "        pe = pefile.PE(file)\n",
        "        imports = getImports(pe)\n",
        "        nSections = len(pe.sections)\n",
        "        secNames = getSectionNames(pe)\n",
        "        importsCorpus_train.append(imports)\n",
        "        numSections_train.append(nSections)\n",
        "        sectionNames_train.append(secNames)\n",
        "        NgramFeaturesList_train.append(NGramFeatures)\n",
        "        y_train.append(labels_train[i])\n",
        "    except Exception as e:\n",
        "        print(file+\":\")\n",
        "        print(e)"
      ]
    },
    {
      "cell_type": "markdown",
      "metadata": {
        "id": "n5oCYVBr3GaQ"
      },
      "source": [
        "In the following lines, we define a pipeline of sequential transforms (HashingVectorizer and TfidfTransformer) to extract N-gram featurs and construct feature vectors from the DLL imports and Section names extracted for each sample."
      ]
    },
    {
      "cell_type": "code",
      "execution_count": 12,
      "metadata": {
        "id": "2Q1YFlRp3GaQ"
      },
      "outputs": [],
      "source": [
        "# Combine the binary N-gram features with\n",
        "# the DLL imports and section names features to create\n",
        "# vectorized training samples\n",
        "from scipy.sparse import hstack, csr_matrix\n",
        "X_train = hstack([NgramFeaturesList_train, importsCorpus_train_transformed,sectionNames_train_transformed, csr_matrix(numSections_train).transpose()])"
      ]
    },
    {
      "cell_type": "code",
      "execution_count": 14,
      "metadata": {
        "id": "0aV7zZT93GaS"
      },
      "outputs": [],
      "source": [
        "importsCorpus_test_transformed = imports_featurizer.transform(importsCorpus_test)\n",
        "sectionNames_test_transformed = section_names_featurizer.transform(sectionNames_test)\n",
        "X_test = hstack([NgramFeaturesList_test, importsCorpus_test_transformed,sectionNames_test_transformed, csr_matrix(numSections_test).transpose()])"
      ]
    },
    {
      "cell_type": "code",
      "execution_count": 22,
      "metadata": {
        "id": "sHhRVWfNBRH1"
      },
      "outputs": [],
      "source": [
        "import joblib\n",
        "clf = joblib.load(\"model.joblib\")"
      ]
    },
    {
      "cell_type": "code",
      "execution_count": 32,
      "metadata": {
        "colab": {
          "base_uri": "https://localhost:8080/"
        },
        "id": "NOFQ91xCEwu8",
        "outputId": "daaca3e1-a984-41ec-8f79-66b6ac6ece3f"
      },
      "outputs": [
        {
          "name": "stdout",
          "output_type": "stream",
          "text": [
            "The nltk version is 3.8.1.\n",
            "The scikit-learn version is 1.2.2.\n"
          ]
        }
      ],
      "source": [
        "import nltk\n",
        "import sklearn\n",
        "\n",
        "print('The nltk version is {}.'.format(nltk.__version__))\n",
        "print('The scikit-learn version is {}.'.format(sklearn.__version__))\n"
      ]
    },
    {
      "cell_type": "code",
      "execution_count": 35,
      "metadata": {
        "id": "lFazamFWFi4R"
      },
      "outputs": [],
      "source": [
        "#Train-Test data split\n",
        "from sklearn.model_selection import train_test_split\n",
        "samples_train, samples_test, labels_train, labels_test = train_test_split(listOfSamples, labels, test_size=0.99, stratify=labels, random_state=42)"
      ]
    },
    {
      "cell_type": "code",
      "execution_count": 36,
      "metadata": {
        "id": "4awqQPEYGAW1"
      },
      "outputs": [],
      "source": [
        "import collections\n",
        "from nltk import ngrams\n",
        "import numpy as np\n",
        "import pefile\n",
        "\n",
        "def readFile(filePath):\n",
        "    with open(filePath, \"rb\") as binary_file:\n",
        "        data = binary_file.read()\n",
        "    return data\n",
        "\n",
        "def byteSequenceToNgrams(byteSequence, n):\n",
        "    Ngrams = ngrams(byteSequence, n)\n",
        "    return list(Ngrams)\n",
        "\n",
        "def extractNgramCounts(file, N):\n",
        "    fileByteSequence = readFile(file)\n",
        "    fileNgrams = byteSequenceToNgrams(fileByteSequence, N)\n",
        "    return collections.Counter(fileNgrams)\n",
        "\n",
        "def getNGramFeaturesFromSample(file, K1_most_common_Ngrams_list):\n",
        "    K1 = len(K1_most_common_Ngrams_list)\n",
        "    fv = K1*[0]\n",
        "    fileNgrams = extractNgramCounts(file, N)\n",
        "    for i in range(K1):\n",
        "        fv[i]=fileNgrams[K1_most_common_Ngrams_list[i]]\n",
        "    return fv\n",
        "\n",
        "def preprocessImports(listOfDLLs):\n",
        "    processedListOfDLLs = []\n",
        "    temp = [x.decode().split(\".\")[0].lower() for x in listOfDLLs]\n",
        "    return \" \".join(temp)\n",
        "\n",
        "def getImports(pe):\n",
        "    listOfImports = []\n",
        "    for entry in pe.DIRECTORY_ENTRY_IMPORT:\n",
        "        listOfImports.append(entry.dll)\n",
        "    return preprocessImports(listOfImports)\n",
        "\n",
        "def getSectionNames(pe):\n",
        "    listOfSectionNames = []\n",
        "    for eachSection in pe.sections:\n",
        "        refined_name = eachSection.Name.decode().replace('\\x00','').lower()\n",
        "        listOfSectionNames.append(refined_name)\n",
        "    return \" \".join(listOfSectionNames)"
      ]
    },
    {
      "cell_type": "code",
      "execution_count": 37,
      "metadata": {
        "colab": {
          "base_uri": "https://localhost:8080/"
        },
        "id": "tftDyX1UGNqJ",
        "outputId": "1477da46-9d3e-4082-c600-e2be7b551d3c"
      },
      "outputs": [
        {
          "name": "stdout",
          "output_type": "stream",
          "text": [
            "RandomSamples/Malware/a2c2b9c47e3b328406635f213d4a7ed2ce9a131342defd6e84cdd385cfb1845f.ole:\n",
            "'DOS Header magic not found.'\n",
            "RandomSamples/Benign/1302667485bd8b4dfcb5cc273cd05da1ca61927b5e923a5acbc2aaa1829ecfa1.exe:\n",
            "'Invalid NT Headers signature. Probably a NE file'\n",
            "RandomSamples/Malware/6304d9157e443c349a212dcf8c2ee4bf23645a1f690a499ac31bed22e2995f6b.ole:\n",
            "'DOS Header magic not found.'\n",
            "RandomSamples/Benign/978ef8171f02b8ac7b85736f1f75af94da2e41dc8ced6809641dad0bbb1a0d0a.ole:\n",
            "'DOS Header magic not found.'\n",
            "RandomSamples/Benign/51ee81dbc0add93b11aa0d4ad02308243c1c194b4bed94722cb18bcf8f2836cf.exe:\n",
            "'DOS Header magic not found.'\n",
            "RandomSamples/Malware/919338befb7b39e71d750fdf3328dbaf4194b881a93e016583026c733e5176a5.ole:\n",
            "'DOS Header magic not found.'\n",
            "RandomSamples/Benign/621c3430af290e8ed10683d645961c1a047b3eb8521645853a26176597f38760.ole:\n",
            "'DOS Header magic not found.'\n",
            "RandomSamples/Malware/6489603b61e93998d4f76eb05db075cdd7001a17873ca26b83869880a12aa4fd.ole:\n",
            "'DOS Header magic not found.'\n",
            "RandomSamples/Benign/76fe3c60788550dde172e3722a624f1407890e3cc39895f9dc233d0e0cc5e566.ole:\n",
            "'DOS Header magic not found.'\n",
            "RandomSamples/Malware/fd84cc018f4e2b42100c201baf95e05f7b05917104992563c25d0bee49869c89.ole:\n",
            "'DOS Header magic not found.'\n",
            "RandomSamples/Benign/1e83c1a2f6f2b7080c7fefccff1fde4bb14aa8a57e851817c92a6f1c946ca17a.exe:\n",
            "'PE' object has no attribute 'DIRECTORY_ENTRY_IMPORT'\n",
            "RandomSamples/Benign/f28c7ec3ea47d949ab6a06a6a0bbb3ba0b81c9ec7aa0ba599b7d3a71ab31eef1.ole:\n",
            "'DOS Header magic not found.'\n",
            "RandomSamples/Benign/bad0f7e1c8db0923888fa5e93b4685ec60c4e5097a40547803a756eff49b69e4.ole:\n",
            "'DOS Header magic not found.'\n",
            "RandomSamples/Benign/daf40d9a2ec0f85748aa446e41c11cf7188fdfa0f00d84652a38699c5e04863a.exe:\n",
            "'PE' object has no attribute 'DIRECTORY_ENTRY_IMPORT'\n",
            "RandomSamples/Benign/f74e793f09094510fb7b95d211db7c28767f5e889736a17c79f66a1626aae126.ole:\n",
            "'DOS Header magic not found.'\n",
            "RandomSamples/Benign/a6266f82f8549582c1ede57f127c9f65e2f7271c42b7ed51f0fef0f0eb2bb90e.ole:\n",
            "'DOS Header magic not found.'\n",
            "RandomSamples/Malware/2e174d4f07dcfac47d20694bdeb19d62a60dfa485cce9b620951dba1efee99a7.ole:\n",
            "'DOS Header magic not found.'\n",
            "RandomSamples/Malware/92184cdade7cfd45d527a59a8551708085329100e48048beaef4f0421bc83f00.ole:\n",
            "'DOS Header magic not found.'\n",
            "RandomSamples/Benign/cab5577a83571f7bc46dd0bea6a12f7e872f81157a901e8f1a167e159088c33e.exe:\n",
            "'PE' object has no attribute 'DIRECTORY_ENTRY_IMPORT'\n",
            "RandomSamples/Malware/c12ce349d77a95a82eb81a398a26887ad0df1a06882a7542d61a090751bc2ebd.ole:\n",
            "'DOS Header magic not found.'\n",
            "RandomSamples/Benign/7039d7172ce2ee9698336942eb482bd39d08aacea1ad90e944b62be909bba929.ole:\n",
            "'DOS Header magic not found.'\n",
            "RandomSamples/Malware/6aa0628194addc5361ab720044fb4d55b01417b2b70fb68f38a4b46757f7b36d.ole:\n",
            "'DOS Header magic not found.'\n",
            "RandomSamples/Malware/93e33f4a4ac3936e9fef46f4867ccc11583c4f11fdf14426536324d01f280d42.ole:\n",
            "'DOS Header magic not found.'\n",
            "RandomSamples/Benign/13adc27c933219863b7914e1ae01592bf838211f74f893962745a7e902fe0a00.ole:\n",
            "'DOS Header magic not found.'\n",
            "RandomSamples/Malware/859a52cd1b0aa5c84836f1d4b6e63be3df7155d97fcb2f40fce4a55d4bebb495.ole:\n",
            "'DOS Header magic not found.'\n",
            "RandomSamples/Benign/6a5a9543efdcbfea2f59591f16302e200dbcc4966c7642aabc9be79910d7855a.ole:\n",
            "'DOS Header magic not found.'\n",
            "RandomSamples/Malware/eca134d5ba493b631f1961738e4af190b9ffcb430fde25940e77c2ce91dc6815.ole:\n",
            "'DOS Header magic not found.'\n",
            "RandomSamples/Malware/0fb32d14c44e30aa5e3f3aefb634a5414cfa213f97ad3b129d3c18dcf8e7ff61.ole:\n",
            "'DOS Header magic not found.'\n",
            "RandomSamples/Malware/2282676dff6e201e68e1817f507dbb2f5ecbeb498367e7aada3916d32e89511d.ole:\n",
            "'DOS Header magic not found.'\n",
            "RandomSamples/Malware/42f931a37a44c73263e47b0f33039ccb6710707b64b2f18e3cb3cd223fd06df5.ole:\n",
            "'DOS Header magic not found.'\n",
            "RandomSamples/Malware/20397e39e9f97462e5b9dc1f2132c1f9448b80a57fe3f87e27c2a852585d618b.ole:\n",
            "'DOS Header magic not found.'\n",
            "RandomSamples/Malware/7697faf6a3ac06e7f465152759a63f92d67946fef445bd4c26c487b579ff857d.ole:\n",
            "'DOS Header magic not found.'\n",
            "RandomSamples/Benign/03aed529543ac4ce2d9bb6b325f59686a06f1e9df112cf719a8e5222fffda801.exe:\n",
            "'Invalid e_lfanew value, probably not a PE file'\n",
            "RandomSamples/Malware/f478fbc67c123cb052f3d62ae3d94292aead2d3ec71707d443d91f08f9897212.ole:\n",
            "'DOS Header magic not found.'\n",
            "RandomSamples/Malware/537004a14ffa2aea601cd475e25cb6b7392aa15c6f2c899b5c277abc5b7428a0.ole:\n",
            "'DOS Header magic not found.'\n",
            "RandomSamples/Malware/fc4e851464b275cb4206af8ce176350c7e12b7b1334a795cf27e48bb6cd9df06.ole:\n",
            "'DOS Header magic not found.'\n",
            "RandomSamples/Malware/4a289795d29da9959564874ec87406a7d6551b9b1da8fdcf5e16239bc9ad981d.ole:\n",
            "'DOS Header magic not found.'\n",
            "RandomSamples/Malware/d022c59589a2ad650fad1bdac12c5e303dfa3fc7061019607c538bcc35222fcf.ole:\n",
            "'DOS Header magic not found.'\n"
          ]
        }
      ],
      "source": [
        "# Generate feature vectors for the test samples\n",
        "# This may take a few minutes\n",
        "importsCorpus_test = []\n",
        "numSections_test = []\n",
        "sectionNames_test = []\n",
        "NgramFeaturesList_test = []\n",
        "y_test = []\n",
        "for i in range(len(samples_test)):\n",
        "    file = samples_test[i]\n",
        "    try:\n",
        "        NGramFeatures = getNGramFeaturesFromSample(file, K1_most_common_Ngrams_list)\n",
        "        pe = pefile.PE(file)\n",
        "        imports = getImports(pe)\n",
        "        nSections = len(pe.sections)\n",
        "        secNames = getSectionNames(pe)\n",
        "        importsCorpus_test.append(imports)\n",
        "        numSections_test.append(nSections)\n",
        "        sectionNames_test.append(secNames)\n",
        "        NgramFeaturesList_test.append(NGramFeatures)\n",
        "        y_test.append(labels_test[i])\n",
        "    except Exception as e:\n",
        "        print(file+\":\")\n",
        "        print(e)"
      ]
    },
    {
      "cell_type": "code",
      "execution_count": 38,
      "metadata": {
        "id": "0lfaJu_1G3Dq"
      },
      "outputs": [],
      "source": [
        "importsCorpus_test_transformed = imports_featurizer.transform(importsCorpus_test)\n",
        "sectionNames_test_transformed = section_names_featurizer.transform(sectionNames_test)\n",
        "X_test = hstack([NgramFeaturesList_test, importsCorpus_test_transformed,sectionNames_test_transformed, csr_matrix(numSections_test).transpose()])"
      ]
    },
    {
      "cell_type": "code",
      "execution_count": 39,
      "metadata": {
        "colab": {
          "base_uri": "https://localhost:8080/"
        },
        "id": "viO-0CV0G6TE",
        "outputId": "12323420-7b7d-4225-be9b-910e55cfcda6"
      },
      "outputs": [
        {
          "data": {
            "text/plain": [
              "0.9875"
            ]
          },
          "execution_count": 39,
          "metadata": {},
          "output_type": "execute_result"
        }
      ],
      "source": [
        "clf.score(X_test, y_test)"
      ]
    },
    {
      "cell_type": "code",
      "execution_count": 40,
      "metadata": {
        "colab": {
          "base_uri": "https://localhost:8080/"
        },
        "id": "VfVlJcaRG9gg",
        "outputId": "81834e04-8eed-4a62-80c7-a27e2cb905fd"
      },
      "outputs": [
        {
          "name": "stdout",
          "output_type": "stream",
          "text": [
            "Accuracy: 0.9875\n"
          ]
        }
      ],
      "source": [
        "from sklearn.metrics import accuracy_score\n",
        "y_predict = clf.predict(X_test)\n",
        "accuracy = accuracy_score(y_test, y_predict)\n",
        "print('Accuracy:', accuracy)"
      ]
    },
    {
      "cell_type": "code",
      "execution_count": 43,
      "metadata": {
        "colab": {
          "base_uri": "https://localhost:8080/"
        },
        "id": "SBwne8rBHGR7",
        "outputId": "82d7881a-a1e9-433e-eb44-d4a39e82af73"
      },
      "outputs": [
        {
          "name": "stdout",
          "output_type": "stream",
          "text": [
            "Test Accuracy: 0.9875\n"
          ]
        }
      ],
      "source": [
        "# Test accuracy\n",
        "test_accuracy = accuracy_score(y_test, clf.predict(X_test))\n",
        "print(\"Test Accuracy:\", test_accuracy)"
      ]
    },
    {
      "cell_type": "code",
      "execution_count": 44,
      "metadata": {
        "colab": {
          "base_uri": "https://localhost:8080/"
        },
        "id": "ZkVHpFGSHN0N",
        "outputId": "4559b644-0c85-43cd-aff5-1fab147a6dfd"
      },
      "outputs": [
        {
          "name": "stdout",
          "output_type": "stream",
          "text": [
            "Recall: 0.974025974025974\n"
          ]
        }
      ],
      "source": [
        "# Recall\n",
        "recall = recall_score(y_test, clf.predict(X_test))\n",
        "print(\"Recall:\", recall)"
      ]
    },
    {
      "cell_type": "code",
      "execution_count": 45,
      "metadata": {
        "colab": {
          "base_uri": "https://localhost:8080/"
        },
        "id": "2R93tLGUHQs_",
        "outputId": "bb478f86-f580-4284-f0ac-0d6e82a8e971"
      },
      "outputs": [
        {
          "name": "stdout",
          "output_type": "stream",
          "text": [
            "F1 Score: 0.9868421052631579\n"
          ]
        }
      ],
      "source": [
        "# F1 score\n",
        "f1 = f1_score(y_test, clf.predict(X_test))\n",
        "print(\"F1 Score:\", f1)"
      ]
    },
    {
      "cell_type": "code",
      "execution_count": 46,
      "metadata": {
        "colab": {
          "base_uri": "https://localhost:8080/",
          "height": 616
        },
        "id": "q9DBXXWgHTsk",
        "outputId": "e3cda20d-8b41-4c67-9358-25abac4decec"
      },
      "outputs": [
        {
          "name": "stdout",
          "output_type": "stream",
          "text": [
            "Confusion Matrix:\n",
            " [[83  0]\n",
            " [ 2 75]]\n"
          ]
        },
        {
          "data": {
            "image/png": "[encoded data removed]",
            "text/plain": [
              "<Figure size 800x600 with 1 Axes>"
            ]
          },
          "metadata": {},
          "output_type": "display_data"
        }
      ],
      "source": [
        "# Confusion matrix\n",
        "import matplotlib.pyplot as plt\n",
        "import seaborn as sns\n",
        "from sklearn.metrics import confusion_matrix\n",
        "\n",
        "# Generate confusion matrix\n",
        "conf_matrix = confusion_matrix(y_test, clf.predict(X_test))\n",
        "print(\"Confusion Matrix:\\n\", conf_matrix)\n",
        "\n",
        "# Plot confusion matrix\n",
        "plt.figure(figsize=(8, 6))\n",
        "sns.heatmap(conf_matrix, annot=True, fmt='d', cmap='Blues', cbar=False)\n",
        "plt.title('Confusion Matrix')\n",
        "plt.xlabel('Predicted Labels')\n",
        "plt.ylabel('True Labels')\n",
        "plt.show()"
      ]
    }
  ],
  "metadata": {
    "colab": {
      "provenance": []
    },
    "kernelspec": {
      "display_name": "Python 3",
      "language": "python",
      "name": "python3"
    },
    "language_info": {
      "codemirror_mode": {
        "name": "ipython",
        "version": 3
      },
      "file_extension": ".py",
      "mimetype": "text/x-python",
      "name": "python",
      "nbconvert_exporter": "python",
      "pygments_lexer": "ipython3",
      "version": "3.8.10"
    }
  },
  "nbformat": 4,
  "nbformat_minor": 0
}
